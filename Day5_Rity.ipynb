{
 "cells": [
  {
   "cell_type": "code",
   "execution_count": 3,
   "id": "ad8b3f57-c542-4814-bc9f-789537270ea0",
   "metadata": {},
   "outputs": [
    {
     "name": "stdout",
     "output_type": "stream",
     "text": [
      "This is hello World ...\n",
      "This is hello World ...\n"
     ]
    }
   ],
   "source": [
    "# decorators \n",
    "\n",
    "def hello():\n",
    "    print(f\"This is hello World ...\")\n",
    "\n",
    "hello()\n",
    "\n",
    "hello_var = hello # assiging to avariable\n",
    "\n",
    "hello_var()\n"
   ]
  },
  {
   "cell_type": "code",
   "execution_count": 9,
   "id": "e37c09c7-ba1c-42fc-8d12-aabb31aa97a4",
   "metadata": {},
   "outputs": [
    {
     "data": {
      "text/plain": [
       "30"
      ]
     },
     "execution_count": 9,
     "metadata": {},
     "output_type": "execute_result"
    }
   ],
   "source": [
    "\n",
    "def fun1(func, x, y): # function taking a function argument\n",
    "    return func(x , y)\n",
    "\n",
    "\n",
    "def add(a, b):\n",
    "    return (a + b)\n",
    "\n",
    "fun1(add, 10, 20)\n"
   ]
  },
  {
   "cell_type": "code",
   "execution_count": 12,
   "id": "c4c05516-c318-4493-878a-089792f2df33",
   "metadata": {},
   "outputs": [
    {
     "name": "stdout",
     "output_type": "stream",
     "text": [
      "Starting ...\n",
      "Hello World\n",
      "Finishig .. \n"
     ]
    }
   ],
   "source": [
    "# decorator - \n",
    "# its just a function that takes a another function as input and adds extra functionality to it\n",
    "# without changing actual code\n",
    "# decorator is starts with @\n",
    "\n",
    "def decorator1(func):\n",
    "    def wrapper():\n",
    "        print(\"Starting ...\")\n",
    "        func()\n",
    "        print(\"Finishig .. \")\n",
    "    return wrapper\n",
    "\n",
    "@decorator1\n",
    "def hello_world():\n",
    "    print(\"Hello World\")\n",
    "\n",
    "hello_world()\n",
    "\n",
    "# hello_world = decorator1(hello_world) - compiler will intepret like this"
   ]
  },
  {
   "cell_type": "code",
   "execution_count": 14,
   "id": "9a888b13-2a1e-478e-afd8-60dd019c6bf2",
   "metadata": {},
   "outputs": [
    {
     "name": "stdout",
     "output_type": "stream",
     "text": [
      "Starting decorator1 ...\n",
      "Starting decorator2 ...\n",
      "Hello World\n",
      "Finishig decorator2 .. \n",
      "Finishig decorator1 .. \n"
     ]
    }
   ],
   "source": [
    "\n",
    "def decorator1(func):\n",
    "    def wrapper():\n",
    "        print(\"Starting decorator1 ...\")\n",
    "        func()\n",
    "        print(\"Finishig decorator1 .. \")\n",
    "    return wrapper\n",
    "\n",
    "def decorator2(func):\n",
    "    def wrapper():\n",
    "        print(\"Starting decorator2 ...\")\n",
    "        func()\n",
    "        print(\"Finishig decorator2 .. \")\n",
    "    return wrapper\n",
    "\n",
    "# chaining of decorators\n",
    "@decorator1\n",
    "@decorator2\n",
    "def hello_world():\n",
    "    print(\"Hello World\")\n",
    "\n",
    "\n",
    "hello_world()"
   ]
  },
  {
   "cell_type": "code",
   "execution_count": 20,
   "id": "eb164daa-b3e2-45b8-98c9-3063cc738268",
   "metadata": {},
   "outputs": [
    {
     "name": "stdout",
     "output_type": "stream",
     "text": [
      "decorator_add starting ..\n",
      "decorator_add finished ..\n",
      "30\n"
     ]
    }
   ],
   "source": [
    "# decorators\n",
    "# functin taking arguments\n",
    "\n",
    "def decorator_add(func):\n",
    "    def wrapper_function(*args, **kwargs):\n",
    "        print(\"decorator_add starting ..\")\n",
    "        ret = func(*args, **kwargs)\n",
    "        print(\"decorator_add finished ..\")\n",
    "        return ret\n",
    "    return wrapper_function\n",
    "\n",
    "@decorator_add\n",
    "def add1(a, b):\n",
    "    return a + b\n",
    "\n",
    "print(add1(10, 20))"
   ]
  },
  {
   "cell_type": "code",
   "execution_count": 25,
   "id": "7634d66b-6686-45d0-a863-c23c0959ae6a",
   "metadata": {},
   "outputs": [
    {
     "name": "stdout",
     "output_type": "stream",
     "text": [
      "Car is HH Model and Year is 2025\n",
      "Car is HHM Model and Year is 1990\n"
     ]
    }
   ],
   "source": [
    "# class - bundling data (similar properties ) and dunctionality together \n",
    "# __ => is called dunder method\n",
    "# __init__ => constructor\n",
    "\n",
    "class Car:\n",
    "    def __init__(self, model, year):\n",
    "        self.model = model\n",
    "        self.year = year\n",
    "\n",
    "    def print_info(self):\n",
    "        print(f\"Car is {self.model} Model and Year is {self.year}\")\n",
    "\n",
    "c1 = Car(\"HH\", 2025)\n",
    "c1.print_info()\n",
    "\n",
    "c2 = Car(\"HHM\", 1990)\n",
    "c2.print_info()"
   ]
  },
  {
   "cell_type": "code",
   "execution_count": null,
   "id": "6bb1380d-39cf-4650-9f47-5a9e03b8b055",
   "metadata": {},
   "outputs": [],
   "source": []
  }
 ],
 "metadata": {
  "kernelspec": {
   "display_name": "Python 3 (ipykernel)",
   "language": "python",
   "name": "python3"
  },
  "language_info": {
   "codemirror_mode": {
    "name": "ipython",
    "version": 3
   },
   "file_extension": ".py",
   "mimetype": "text/x-python",
   "name": "python",
   "nbconvert_exporter": "python",
   "pygments_lexer": "ipython3",
   "version": "3.13.7"
  }
 },
 "nbformat": 4,
 "nbformat_minor": 5
}
