{
 "cells": [
  {
   "cell_type": "code",
   "execution_count": 1,
   "id": "dabfeb7c-8123-4d9b-8d35-7cd985ec1792",
   "metadata": {},
   "outputs": [],
   "source": [
    "# Exception\n",
    "# exceptions are the event that disrupt the normal fow of program or execution\n",
    "# when exceptin happen - it means an error or some condition has an issue or abnormal behaviour\n",
    "# syntax error, file not found error - diffferent types of exception"
   ]
  },
  {
   "cell_type": "code",
   "execution_count": 2,
   "id": "6eae285b-9787-4fef-943a-54d53ef8c5cb",
   "metadata": {},
   "outputs": [],
   "source": [
    "# why need to handle exception \n",
    "# - to handle it gracefully\n",
    "# - your program should do the proper clean up like data connection destroy, resourece should be released\n",
    "# - it also helps to print any debug message if any \n",
    "# - python all system exception inherits from Exception base class "
   ]
  },
  {
   "cell_type": "code",
   "execution_count": 3,
   "id": "2545eb21-cf02-47cd-8f3d-60a751b01ffc",
   "metadata": {},
   "outputs": [
    {
     "ename": "TypeError",
     "evalue": "can only concatenate str (not \"int\") to str",
     "output_type": "error",
     "traceback": [
      "\u001b[31m---------------------------------------------------------------------------\u001b[39m",
      "\u001b[31mTypeError\u001b[39m                                 Traceback (most recent call last)",
      "\u001b[36mCell\u001b[39m\u001b[36m \u001b[39m\u001b[32mIn[3]\u001b[39m\u001b[32m, line 1\u001b[39m\n\u001b[32m----> \u001b[39m\u001b[32m1\u001b[39m val = \u001b[33;43m\"\u001b[39;49m\u001b[33;43m2\u001b[39;49m\u001b[33;43m\"\u001b[39;49m\u001b[43m \u001b[49m\u001b[43m+\u001b[49m\u001b[43m \u001b[49m\u001b[32;43m2\u001b[39;49m\n",
      "\u001b[31mTypeError\u001b[39m: can only concatenate str (not \"int\") to str"
     ]
    }
   ],
   "source": [
    "val = \"2\" + 2"
   ]
  },
  {
   "cell_type": "code",
   "execution_count": 4,
   "id": "204bd005-0f3e-4055-bcc4-1135e66fd7a5",
   "metadata": {},
   "outputs": [
    {
     "ename": "ValueError",
     "evalue": "invalid literal for int() with base 10: 'abc'",
     "output_type": "error",
     "traceback": [
      "\u001b[31m---------------------------------------------------------------------------\u001b[39m",
      "\u001b[31mValueError\u001b[39m                                Traceback (most recent call last)",
      "\u001b[36mCell\u001b[39m\u001b[36m \u001b[39m\u001b[32mIn[4]\u001b[39m\u001b[32m, line 1\u001b[39m\n\u001b[32m----> \u001b[39m\u001b[32m1\u001b[39m k = \u001b[38;5;28;43mint\u001b[39;49m\u001b[43m(\u001b[49m\u001b[33;43m\"\u001b[39;49m\u001b[33;43mabc\u001b[39;49m\u001b[33;43m\"\u001b[39;49m\u001b[43m)\u001b[49m\n",
      "\u001b[31mValueError\u001b[39m: invalid literal for int() with base 10: 'abc'"
     ]
    }
   ],
   "source": [
    "k = int(\"abc\")"
   ]
  },
  {
   "cell_type": "code",
   "execution_count": 5,
   "id": "8a87e0d1-4a83-4a95-9553-615d78f95a68",
   "metadata": {},
   "outputs": [],
   "source": [
    "# exception construct - we have \n",
    "# try, except, else, finallly \n",
    "\n",
    "# try will contains code that is problematics or is prone to have an issue\n",
    "# except block will catches the exception\n",
    "# else will execute only when there is no error \n",
    "# finally - it will alywas execute no matter exception is there or not"
   ]
  },
  {
   "cell_type": "code",
   "execution_count": 6,
   "id": "9c11c5f1-79c0-45c0-98de-30587f8db13f",
   "metadata": {},
   "outputs": [
    {
     "ename": "ZeroDivisionError",
     "evalue": "division by zero",
     "output_type": "error",
     "traceback": [
      "\u001b[31m---------------------------------------------------------------------------\u001b[39m",
      "\u001b[31mZeroDivisionError\u001b[39m                         Traceback (most recent call last)",
      "\u001b[36mCell\u001b[39m\u001b[36m \u001b[39m\u001b[32mIn[6]\u001b[39m\u001b[32m, line 1\u001b[39m\n\u001b[32m----> \u001b[39m\u001b[32m1\u001b[39m result = \u001b[32;43m10\u001b[39;49m\u001b[43m/\u001b[49m\u001b[32;43m0\u001b[39;49m\n",
      "\u001b[31mZeroDivisionError\u001b[39m: division by zero"
     ]
    }
   ],
   "source": [
    "result = 10/0"
   ]
  },
  {
   "cell_type": "code",
   "execution_count": 7,
   "id": "76461ffb-9365-4cbd-a30f-dbfdb02edb2a",
   "metadata": {},
   "outputs": [
    {
     "name": "stdout",
     "output_type": "stream",
     "text": [
      "Error ... cannot divide any number by zero\n"
     ]
    }
   ],
   "source": [
    "try:\n",
    "    result = 10 / 0\n",
    "except ZeroDivisionError:\n",
    "    print(\"Error ... cannot divide any number by zero\")"
   ]
  },
  {
   "cell_type": "code",
   "execution_count": 9,
   "id": "33436f93-794f-4b9b-a5d4-fb359fc07410",
   "metadata": {},
   "outputs": [
    {
     "name": "stdout",
     "output_type": "stream",
     "text": [
      "Its A\n",
      "Error ... cannot divide any number by zero\n"
     ]
    }
   ],
   "source": [
    "# multiple except \n",
    "try:\n",
    "    print(\"Its A\")\n",
    "    result = 10 / 0\n",
    "    print(\"Its B\")\n",
    "    k = int(\"abc\")\n",
    "    print(\"Its C\")\n",
    "except ZeroDivisionError:\n",
    "    print(\"Error ... cannot divide any number by zero\")\n",
    "except ValueError:\n",
    "    print(\"Cannot store string into integer\")"
   ]
  },
  {
   "cell_type": "code",
   "execution_count": 11,
   "id": "e2e3e4fc-249c-4a3f-bae9-9edbe1f1ae28",
   "metadata": {},
   "outputs": [
    {
     "name": "stdout",
     "output_type": "stream",
     "text": [
      "Exception occured: division by zero\n"
     ]
    }
   ],
   "source": [
    "# generic exception catch\n",
    "try:\n",
    "    k = 10\n",
    "    k = k / 0\n",
    "except Exception as e:\n",
    "    print(f\"Exception occured: {e}\")"
   ]
  },
  {
   "cell_type": "code",
   "execution_count": 13,
   "id": "a7f4c6c2-86cc-4546-97ca-3cfeb988915a",
   "metadata": {},
   "outputs": [
    {
     "name": "stdout",
     "output_type": "stream",
     "text": [
      "Exception occured: float division by zero\n"
     ]
    }
   ],
   "source": [
    "try:\n",
    "    k = k / 0\n",
    "except Exception as e:\n",
    "    print(f\"Exception occured: {e}\")\n",
    "else:\n",
    "    print(\"All good .. no exception ... \")"
   ]
  },
  {
   "cell_type": "code",
   "execution_count": 14,
   "id": "ff420286-4a44-4db2-9dd7-d39f9238ab9a",
   "metadata": {},
   "outputs": [
    {
     "name": "stdout",
     "output_type": "stream",
     "text": [
      "Exception occured: float division by zero\n",
      "This will be printed no matter what - whether exception is there or not ... \n"
     ]
    }
   ],
   "source": [
    "try:\n",
    "    k = k / 0\n",
    "except Exception as e:\n",
    "    print(f\"Exception occured: {e}\")\n",
    "else:\n",
    "    print(\"All good .. no exception ... \")\n",
    "finally:\n",
    "    print(\"This will be printed no matter what - whether exception is there or not ... \")"
   ]
  },
  {
   "cell_type": "code",
   "execution_count": 31,
   "id": "295b93ea-045f-4676-aa34-7b7b5fad8d26",
   "metadata": {},
   "outputs": [
    {
     "name": "stdout",
     "output_type": "stream",
     "text": [
      "Generic Exception Occured ... Age is greater than 120\n",
      "Finally called ... \n"
     ]
    }
   ],
   "source": [
    "# user defined exception\n",
    "\n",
    "class InvalidAgeException(Exception):\n",
    "    def __init__(self, message):\n",
    "        self.message = message\n",
    "        super().__init__(self.message)\n",
    "\n",
    "def validate_age(age):\n",
    "    if age < 0:\n",
    "        raise InvalidAgeException(f\"Age is less than {age}\")\n",
    "    if age > 100:\n",
    "        raise InvalidAgeException(f\"Age is greater than {age}\")\n",
    "    print(\"Valid age\")\n",
    "\n",
    "try:\n",
    "    validate_age(120)\n",
    "    #k = int(\"ss\")\n",
    "except ValueError as e:\n",
    "    print(f\"ValueError Occured ... {e}\")\n",
    "except Exception as e:\n",
    "    print(f\"Generic Exception Occured ... {e}\")\n",
    "except InvalidAgeException as e:\n",
    "    print(f\"InvalidAgeException Occured ... {e}\")\n",
    "finally:\n",
    "    print(\"Finally called ... \")\n"
   ]
  },
  {
   "cell_type": "code",
   "execution_count": null,
   "id": "de1e45f2-363c-4b53-a7f0-5f879ca19d89",
   "metadata": {},
   "outputs": [],
   "source": []
  }
 ],
 "metadata": {
  "kernelspec": {
   "display_name": "Python 3 (ipykernel)",
   "language": "python",
   "name": "python3"
  },
  "language_info": {
   "codemirror_mode": {
    "name": "ipython",
    "version": 3
   },
   "file_extension": ".py",
   "mimetype": "text/x-python",
   "name": "python",
   "nbconvert_exporter": "python",
   "pygments_lexer": "ipython3",
   "version": "3.13.7"
  }
 },
 "nbformat": 4,
 "nbformat_minor": 5
}
