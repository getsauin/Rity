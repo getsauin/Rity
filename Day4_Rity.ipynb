{
 "cells": [
  {
   "cell_type": "code",
   "execution_count": 1,
   "id": "b1b357f5-bd8d-4813-ba29-50fd79c21dad",
   "metadata": {},
   "outputs": [],
   "source": [
    "# ArgParse - command line argument\n",
    "# Args / Kwargs - positional argument / variadac / any number of input in functionc call\n",
    "# Annotation\n",
    "# Map / Filter / Reduce\n",
    "# Comprehension - list / dictionary / set"
   ]
  },
  {
   "cell_type": "code",
   "execution_count": 12,
   "id": "2e5e1a76-c760-461f-86a8-db9e3a2307eb",
   "metadata": {},
   "outputs": [
    {
     "name": "stdout",
     "output_type": "stream",
     "text": [
      "<class 'str'>\n"
     ]
    }
   ],
   "source": [
    "# Anonotation\n",
    "\n",
    "def add(num : int): # doesn't enforce it \n",
    "    print(type(num))\n",
    "\n",
    "add('str')"
   ]
  },
  {
   "cell_type": "code",
   "execution_count": 15,
   "id": "b4559519-268b-43c9-8e6b-a87c45ee816f",
   "metadata": {},
   "outputs": [
    {
     "name": "stdout",
     "output_type": "stream",
     "text": [
      "[100, 400, 900]\n",
      "[100, 400, 900]\n"
     ]
    }
   ],
   "source": [
    "# Map / Filter / Reduce\n",
    "\n",
    "def square(num):\n",
    "    return num * num\n",
    "\n",
    "list1 = [10, 20, 30]\n",
    "\n",
    "squared_number = map(square, list1) # map call function on each iterable data types\n",
    "print(list(squared_number))\n",
    "\n",
    "# using map with lambda\n",
    "sq_num = map(lambda num : num * num, list1)\n",
    "print(list(sq_num))\n"
   ]
  },
  {
   "cell_type": "code",
   "execution_count": 20,
   "id": "4071f84c-9c29-47d5-b5ae-68aedb29a97d",
   "metadata": {},
   "outputs": [
    {
     "name": "stdout",
     "output_type": "stream",
     "text": [
      "[2, 4, 6, 8, 10]\n",
      "[2, 4, 6, 8, 10]\n"
     ]
    }
   ],
   "source": [
    "# Filter\n",
    "\n",
    "# conditinal\n",
    "\n",
    "numbers = [1, 2, 3, 4, 5, 6, 7, 8, 9, 10]\n",
    "\n",
    "def is_even(num):\n",
    "    return num % 2 == 0\n",
    "\n",
    "even_num = filter(is_even, numbers)\n",
    "print(list(even_num))\n",
    "\n",
    "even_num_lambda = filter(lambda num : num % 2 == 0, numbers)\n",
    "print(list(even_num_lambda))"
   ]
  },
  {
   "cell_type": "code",
   "execution_count": 25,
   "id": "9e812deb-8ed9-4dd9-890c-e21262a5d207",
   "metadata": {},
   "outputs": [
    {
     "name": "stdout",
     "output_type": "stream",
     "text": [
      "20\n",
      "720\n"
     ]
    }
   ],
   "source": [
    "# reduce \n",
    "# returns a single value not an iterator\n",
    "# requires import from functools \n",
    "# returns a aggregated values\n",
    "\n",
    "from functools import reduce\n",
    "\n",
    "def add(x, y):\n",
    "    return x + y\n",
    "\n",
    "numbers = [2, 3, 4, 5, 6]\n",
    "\n",
    "sum = reduce(add, numbers)\n",
    "print(sum)\n",
    "\n",
    "sum_lambda = reduce(lambda x, y : x * y, numbers)\n",
    "print(sum_lambda)"
   ]
  },
  {
   "cell_type": "code",
   "execution_count": 44,
   "id": "9adad2d7-0973-43ef-bb41-1112a8d678ca",
   "metadata": {},
   "outputs": [
    {
     "name": "stdout",
     "output_type": "stream",
     "text": [
      "5\n",
      "191\n",
      "6\n"
     ]
    }
   ],
   "source": [
    "# *args / **kwargs\n",
    "\n",
    "# *args - allows a function to accept an arbitrary number of positional argumens \n",
    "\n",
    "def add(x, y):\n",
    "    return x + y\n",
    "\n",
    "print(add(2, 3))\n",
    "\n",
    "def add1(*num):\n",
    "    sum = 0\n",
    "    for no in num:\n",
    "        sum = sum + no\n",
    "    print(sum)\n",
    "\n",
    "add1(10, 20, 30, 30, 45, 56)\n",
    "\n",
    "lis = [1, 2, 3]\n",
    "add1(*lis)"
   ]
  },
  {
   "cell_type": "code",
   "execution_count": 43,
   "id": "c525bfa6-f7e3-4767-b3d9-62ca3ed11a23",
   "metadata": {},
   "outputs": [
    {
     "name": "stdout",
     "output_type": "stream",
     "text": [
      "cit NN\n",
      "cap KK\n",
      "ph 123\n",
      "city kyK\n"
     ]
    }
   ],
   "source": [
    "# **kwargs\n",
    "# it takes dictionary \n",
    "\n",
    "def details(**meta):\n",
    "    for k, v in meta.items():\n",
    "        print(k, v)\n",
    "\n",
    "details(cit=\"NN\", cap=\"KK\")\n",
    "\n",
    "detailsdict = {\"ph\": \"123\", \"city\": \"kyK\"}\n",
    "details(**detailsdict)\n"
   ]
  },
  {
   "cell_type": "code",
   "execution_count": null,
   "id": "fc49cced-682f-42b7-877a-fb530bb78a47",
   "metadata": {},
   "outputs": [],
   "source": []
  }
 ],
 "metadata": {
  "kernelspec": {
   "display_name": "Python 3 (ipykernel)",
   "language": "python",
   "name": "python3"
  },
  "language_info": {
   "codemirror_mode": {
    "name": "ipython",
    "version": 3
   },
   "file_extension": ".py",
   "mimetype": "text/x-python",
   "name": "python",
   "nbconvert_exporter": "python",
   "pygments_lexer": "ipython3",
   "version": "3.13.7"
  }
 },
 "nbformat": 4,
 "nbformat_minor": 5
}
