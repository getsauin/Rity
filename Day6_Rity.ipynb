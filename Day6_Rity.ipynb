{
 "cells": [
  {
   "cell_type": "code",
   "execution_count": 1,
   "id": "aa35ca29-d8fe-4873-8c17-1b1059353ff9",
   "metadata": {},
   "outputs": [],
   "source": [
    "# class\n",
    "# polymorphism\n",
    "# operator overloading\n",
    "# static / instance / class method\n",
    "\n"
   ]
  },
  {
   "cell_type": "code",
   "execution_count": 2,
   "id": "fd268089-24c7-458e-9907-6f4a6839a941",
   "metadata": {},
   "outputs": [],
   "source": [
    "# what is class \n",
    "# A class in python is a blueprint  for creating object\n",
    "# A class group data (variabes) and beahaviour (method - that works ion that group data )\n",
    "# We create object out of class - A - obj = A()\n",
    "# class helps in grouping similar data / functionality \n",
    "# class has constructor\n",
    "# class start with a keyword called class\n"
   ]
  },
  {
   "cell_type": "code",
   "execution_count": 8,
   "id": "335f53ef-69a3-4de0-8dcf-5666c72574a0",
   "metadata": {},
   "outputs": [
    {
     "name": "stdout",
     "output_type": "stream",
     "text": [
      "Scooby is barking \n",
      "Doo is barking \n"
     ]
    }
   ],
   "source": [
    "class Dog:\n",
    "    def __init__(self, name, age):\n",
    "        self.name = name\n",
    "        self.age = age\n",
    "        \n",
    "    def bark(self):\n",
    "        print(f\"{self.name} is barking \")\n",
    "\n",
    "dog = Dog(\"Scooby\", 4)\n",
    "dog.bark()\n",
    "\n",
    "dog1 = Dog(\"Doo\", 5)\n",
    "dog1.bark()"
   ]
  },
  {
   "cell_type": "code",
   "execution_count": 14,
   "id": "634d0b4a-bb9e-4120-b695-4af0b11d3cf4",
   "metadata": {},
   "outputs": [
    {
     "data": {
      "text/plain": [
       "'cc Cat customised methodmake_sound ..'"
      ]
     },
     "execution_count": 14,
     "metadata": {},
     "output_type": "execute_result"
    }
   ],
   "source": [
    "class Animal:\n",
    "    def __init__(self, name, age):\n",
    "        self.name = name\n",
    "        self.age = age\n",
    "\n",
    "    def make_sound(self):\n",
    "        return f\"{self.name} making sound ..\"\n",
    "\n",
    "class Dog(Animal):\n",
    "    def __init__(self, name, age, breed):\n",
    "        self.name = name\n",
    "        self.age = age\n",
    "        self.breed = breed\n",
    "\n",
    "    def make_sound(self):\n",
    "        return f\"{self.name} Dog customised methodmake_sound ..\"\n",
    "\n",
    "class Cat(Animal):\n",
    "    def __init__(self, name, age, fur_color):\n",
    "        self.name = name\n",
    "        self.age = age\n",
    "        self.fur_color = fur_color\n",
    "\n",
    "    def make_sound(self):\n",
    "        return f\"{self.name} Cat customised methodmake_sound ..\"\n",
    "\n",
    "# multiple inheritance\n",
    "class Cat1(Animal, Dog):\n",
    "\n",
    "# multilevel\n",
    "class A\n",
    "class B(A)\n",
    "class C(B)\n",
    "    \n",
    "\n",
    "dog = Dog(\"abc\", 11, \"breed\")\n",
    "dog.make_sound()\n",
    "\n",
    "cat = Cat(\"cc\", 12, \"black\")\n",
    "cat.make_sound()"
   ]
  },
  {
   "cell_type": "code",
   "execution_count": 44,
   "id": "c21983ad-9c28-45fd-9328-7076c7beeb5b",
   "metadata": {},
   "outputs": [
    {
     "data": {
      "text/plain": [
       "28.26"
      ]
     },
     "execution_count": 44,
     "metadata": {},
     "output_type": "execute_result"
    }
   ],
   "source": [
    "# Instance method\n",
    "# static method\n",
    "# class method\n",
    "# property\n",
    "\n",
    "class Circle:\n",
    "    pi = 3.14 # clas variable \n",
    "    count = 0\n",
    "\n",
    "    def __init__(self, radius):\n",
    "        self.radius = radius\n",
    "        Circle.count = Circle.count + 1\n",
    "\n",
    "    # instance method\n",
    "    def diameter(self):\n",
    "        return 2 * self.radius\n",
    "\n",
    "    @staticmethod\n",
    "    def get_pi(radius):\n",
    "        return 3.14 * radius\n",
    "\n",
    "    @classmethod\n",
    "    def diameter_class(cls):\n",
    "        return Circle.count\n",
    "\n",
    "    @property\n",
    "    def area(self):\n",
    "        return Circle.pi * (self.radius ** 2)\n",
    "\n",
    "    # magic method\n",
    "    def __gt__(self, other):\n",
    "        return self.radius > other.radius\n",
    "\n",
    "    def __str__(self):\n",
    "        return f\"({self.radius})\"\n",
    "\n",
    "cir = Circle(3)\n",
    "cir1 = Circle(13)\n",
    "cir3 = Circle(3)\n",
    "cir.diameter()\n",
    "\n",
    "cir.get_pi(11)\n",
    "\n",
    "cir.diameter_class()\n",
    "\n",
    "cir.area\n",
    "\n",
    "#Circle.get_pi()"
   ]
  },
  {
   "cell_type": "code",
   "execution_count": 32,
   "id": "2e827be2-25cd-43ca-adb9-4b8d13ca693d",
   "metadata": {},
   "outputs": [
    {
     "name": "stdout",
     "output_type": "stream",
     "text": [
      "False\n"
     ]
    }
   ],
   "source": [
    "# operator overloading\n",
    "\n",
    "print(cir == cir1)"
   ]
  },
  {
   "cell_type": "code",
   "execution_count": 38,
   "id": "05f41cd0-180e-4939-a134-54d83e1ed913",
   "metadata": {},
   "outputs": [
    {
     "name": "stdout",
     "output_type": "stream",
     "text": [
      "True\n"
     ]
    }
   ],
   "source": [
    "print(cir1 > cir3)\n"
   ]
  },
  {
   "cell_type": "code",
   "execution_count": 45,
   "id": "2f767d83-a4c9-4bef-aa73-e76c303bfbfa",
   "metadata": {},
   "outputs": [
    {
     "name": "stdout",
     "output_type": "stream",
     "text": [
      "(13)\n"
     ]
    }
   ],
   "source": [
    "print(cir1)"
   ]
  },
  {
   "cell_type": "code",
   "execution_count": 46,
   "id": "248f4d56-916d-4556-a44e-c94d3f473965",
   "metadata": {},
   "outputs": [],
   "source": [
    "# operator overloading\n",
    "\n",
    "# __add__ => c1 + c2\n",
    "# __sub__ => c1 - c2\n",
    "# __mul__ => c1 * c2\n",
    "# __mod__ => c1 % c2\n",
    "# __gt__ => c1 > c2\n",
    "# __lt__ => c1 < c2\n",
    "# __str__ => print(c1)"
   ]
  },
  {
   "cell_type": "code",
   "execution_count": 51,
   "id": "7fec4625-f229-41e4-8108-0014d882f80b",
   "metadata": {},
   "outputs": [],
   "source": [
    "class A:\n",
    "    def __init__(self, name, age):\n",
    "        self.name = name\n",
    "        self.age = age\n",
    "\n",
    "    def print():\n",
    "        print(name)\n",
    "\n",
    "class B(A):\n",
    "    def __init__(self, name, age, year):\n",
    "        super().__init__(name, age)\n",
    "        self.name = name\n",
    "        self.age = age\n",
    "        self.year = year\n",
    "\n",
    "\n",
    "bb = B(\"classB\", 11, 1111)"
   ]
  },
  {
   "cell_type": "code",
   "execution_count": null,
   "id": "2e6629bf-0995-45a7-8998-bf1f91b5a7d5",
   "metadata": {},
   "outputs": [],
   "source": []
  }
 ],
 "metadata": {
  "kernelspec": {
   "display_name": "Python 3 (ipykernel)",
   "language": "python",
   "name": "python3"
  },
  "language_info": {
   "codemirror_mode": {
    "name": "ipython",
    "version": 3
   },
   "file_extension": ".py",
   "mimetype": "text/x-python",
   "name": "python",
   "nbconvert_exporter": "python",
   "pygments_lexer": "ipython3",
   "version": "3.13.7"
  }
 },
 "nbformat": 4,
 "nbformat_minor": 5
}
