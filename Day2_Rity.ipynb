{
 "cells": [
  {
   "cell_type": "code",
   "execution_count": 3,
   "id": "aa789542-751f-42d9-aede-373f2088b718",
   "metadata": {},
   "outputs": [
    {
     "name": "stdout",
     "output_type": "stream",
     "text": [
      "10\n",
      "9\n",
      "8\n",
      "7\n",
      "6\n",
      "5\n",
      "4\n",
      "3\n",
      "2\n",
      "1\n",
      "Loops ends\n"
     ]
    }
   ],
   "source": [
    "# loop \n",
    "\n",
    "# for / while\n",
    "# break / continue\n",
    "\n",
    "a = 10\n",
    "while a >= 1:\n",
    "    print(a)\n",
    "    a = a - 1\n",
    "\n",
    "print(\"Loops ends\")"
   ]
  },
  {
   "cell_type": "code",
   "execution_count": 5,
   "id": "5f56aac6-9928-4887-b82c-cde6edf576ee",
   "metadata": {},
   "outputs": [
    {
     "name": "stdout",
     "output_type": "stream",
     "text": [
      "0\n",
      "1\n",
      "2\n",
      "3\n",
      "4\n",
      "5\n",
      "6\n",
      "7\n",
      "8\n",
      "9\n",
      "Loops ends\n"
     ]
    }
   ],
   "source": [
    "# for loop\n",
    "\n",
    "for a in range(10):\n",
    "    print(a)\n",
    "\n",
    "print(\"Loops ends\")"
   ]
  },
  {
   "cell_type": "code",
   "execution_count": 12,
   "id": "ca8c30d7-0d4d-4995-85c5-35535f0bf7b4",
   "metadata": {},
   "outputs": [
    {
     "name": "stdout",
     "output_type": "stream",
     "text": [
      "Tennis\n",
      "Cricket\n",
      "Badminton\n",
      "(0, 'Tennis')\n",
      "(1, 'Cricket')\n",
      "(2, 'Badminton')\n"
     ]
    }
   ],
   "source": [
    "# for loop in list\n",
    "sports = [\"Tennis\", \"Cricket\", \"Badminton\"]\n",
    "\n",
    "for spor in sports:\n",
    "    print(spor)\n",
    "\n",
    "for spor in enumerate(sports):\n",
    "    print(spor)\n"
   ]
  },
  {
   "cell_type": "code",
   "execution_count": 11,
   "id": "0d968cd6-3f70-477c-8a37-badbeb5dfa3e",
   "metadata": {},
   "outputs": [
    {
     "name": "stdout",
     "output_type": "stream",
     "text": [
      "india\n",
      "canada\n",
      "Capital of india is delhi\n",
      "Capital of canada is ottawa\n",
      "(0, 'india')\n",
      "(1, 'canada')\n"
     ]
    }
   ],
   "source": [
    "# for loop in dictionary\n",
    "\n",
    "capital = {\"india\" : \"delhi\", \"canada\" : \"ottawa\"}\n",
    "\n",
    "for key in capital:\n",
    "    print(key)\n",
    "\n",
    "for k, v in capital.items():\n",
    "    print(f\"Capital of {k} is {v}\")\n",
    "\n",
    "\n",
    "for cap in enumerate(capital):\n",
    "    print(cap)"
   ]
  },
  {
   "cell_type": "code",
   "execution_count": 13,
   "id": "33357202-2531-4b20-9ec7-1dbfa90d43b7",
   "metadata": {},
   "outputs": [
    {
     "name": "stdout",
     "output_type": "stream",
     "text": [
      "0 0\n",
      "0 1\n",
      "0 2\n",
      "0 3\n",
      "1 0\n",
      "1 1\n",
      "1 2\n",
      "1 3\n",
      "2 0\n",
      "2 1\n",
      "2 2\n",
      "2 3\n",
      "3 0\n",
      "3 1\n",
      "3 2\n",
      "3 3\n"
     ]
    }
   ],
   "source": [
    "# nested loops\n",
    "for i in range(4):\n",
    "    for j in range(4):\n",
    "        print(i, j)\n"
   ]
  },
  {
   "cell_type": "code",
   "execution_count": 14,
   "id": "36e10b90-2740-4355-9b74-253e17103272",
   "metadata": {},
   "outputs": [
    {
     "name": "stdout",
     "output_type": "stream",
     "text": [
      "india Murmuru\n",
      "canada Mark\n"
     ]
    }
   ],
   "source": [
    "# iterating mutliple iterables using for loop\n",
    "\n",
    "# zip\n",
    "country = [\"india\", \"canada\"]\n",
    "president = [\"Murmuru\", \"Mark\"]\n",
    "\n",
    "for count, pres in zip(country, president):\n",
    "    print(count, pres)"
   ]
  },
  {
   "cell_type": "code",
   "execution_count": 17,
   "id": "4a887fca-a58e-4e23-ac20-219b78ad45bb",
   "metadata": {},
   "outputs": [
    {
     "name": "stdout",
     "output_type": "stream",
     "text": [
      "0\n",
      "1\n",
      "2\n",
      "3\n",
      "4\n"
     ]
    }
   ],
   "source": [
    "# break / continue\n",
    "\n",
    "for i in range(10):\n",
    "    if (i == 5):\n",
    "        break\n",
    "    print(i)\n"
   ]
  },
  {
   "cell_type": "code",
   "execution_count": 19,
   "id": "4b6a0c3f-088b-4a97-b354-c25dc6b5a657",
   "metadata": {},
   "outputs": [
    {
     "name": "stdout",
     "output_type": "stream",
     "text": [
      "5\n",
      "6\n",
      "7\n",
      "8\n",
      "9\n"
     ]
    }
   ],
   "source": [
    "# continue\n",
    "\n",
    "for i in range(10):\n",
    "    if (i < 5):\n",
    "        continue\n",
    "    print(i)\n"
   ]
  },
  {
   "cell_type": "code",
   "execution_count": 22,
   "id": "11fe6971-654c-4e94-aafe-a70c40226775",
   "metadata": {},
   "outputs": [
    {
     "name": "stdout",
     "output_type": "stream",
     "text": [
      "0\n",
      "1\n",
      "2\n",
      "3\n",
      "4\n",
      "5\n",
      "6\n",
      "7\n",
      "8\n",
      "9\n"
     ]
    }
   ],
   "source": [
    "# multiple break , continue\n",
    "\n",
    "for i in range(10):\n",
    "    for j in range(10):\n",
    "        if j <= 8:\n",
    "            break\n",
    "        print(i, j)\n",
    "    print(i)"
   ]
  },
  {
   "cell_type": "code",
   "execution_count": 24,
   "id": "aa8ea552-2f1e-44a0-a763-ef0f7c7a5339",
   "metadata": {},
   "outputs": [
    {
     "name": "stdout",
     "output_type": "stream",
     "text": [
      "Hello World\n"
     ]
    }
   ],
   "source": [
    "# continue\n",
    "\n",
    "# function / lambdas\n",
    "\n",
    "def print_hello_world():\n",
    "    print(\"Hello World\")\n",
    "\n",
    "print_hello_world()"
   ]
  },
  {
   "cell_type": "code",
   "execution_count": 25,
   "id": "8a091937-14d6-4728-a493-855d9445ed9c",
   "metadata": {},
   "outputs": [
    {
     "name": "stdout",
     "output_type": "stream",
     "text": [
      "10\n"
     ]
    }
   ],
   "source": [
    "def sum(a, b):\n",
    "    return a + b\n",
    "\n",
    "print(sum(5,5))"
   ]
  },
  {
   "cell_type": "code",
   "execution_count": 26,
   "id": "75ea7272-2c54-452e-8579-7f2d387331a5",
   "metadata": {},
   "outputs": [
    {
     "name": "stdin",
     "output_type": "stream",
     "text": [
      "Enter 1st Number:  10\n",
      "Enter 2nd Number:  20\n",
      "Enter +/-/*// +\n"
     ]
    }
   ],
   "source": [
    "a = input(\"Enter 1st Number: \")\n",
    "b = input(\"Enter 2nd Number: \")\n",
    "actio = input(\"Enter +/-/*//\")"
   ]
  },
  {
   "cell_type": "code",
   "execution_count": 27,
   "id": "7a15b96a-1a60-47aa-a0e1-db1e3608bd84",
   "metadata": {},
   "outputs": [
    {
     "name": "stdout",
     "output_type": "stream",
     "text": [
      "5\n"
     ]
    }
   ],
   "source": [
    "# lambdas - nameless function \n",
    "\n",
    "sum = lambda a, b : a + b\n",
    "\n",
    "print(sum(2,3))\n",
    "\n"
   ]
  },
  {
   "cell_type": "code",
   "execution_count": 28,
   "id": "4a67f6cf-8dfe-473e-b9f1-2b943712ce55",
   "metadata": {},
   "outputs": [
    {
     "name": "stdout",
     "output_type": "stream",
     "text": [
      "[4, 6, 8, 10, 12]\n"
     ]
    }
   ],
   "source": [
    "# map & filter in lambdas \n",
    "\n",
    "# map = do some action on every iterable object\n",
    "\n",
    "num = [2, 4, 6, 8, 10]\n",
    "add2 = list(map(lambda a : a + 2, num))\n",
    "\n",
    "print(add2)"
   ]
  },
  {
   "cell_type": "code",
   "execution_count": 30,
   "id": "69a3200c-e506-4cd0-9840-c23835177bde",
   "metadata": {},
   "outputs": [
    {
     "name": "stdout",
     "output_type": "stream",
     "text": [
      "[2, 4, 6]\n"
     ]
    }
   ],
   "source": [
    "# filter\n",
    "\n",
    "# like a select statment - do this only if statement is true\n",
    "# it works on only iterables - list, tuple, set\n",
    "\n",
    "num = [2, 3, 4, 5, 6]\n",
    "\n",
    "even_num = list(filter(lambda a : a % 2 == 0, num))\n",
    "\n",
    "print(even_num)\n"
   ]
  },
  {
   "cell_type": "code",
   "execution_count": null,
   "id": "2f1db337-5ea9-4582-bf13-35aef06f8436",
   "metadata": {},
   "outputs": [],
   "source": [
    "# virtual environment / package "
   ]
  }
 ],
 "metadata": {
  "kernelspec": {
   "display_name": "Python 3 (ipykernel)",
   "language": "python",
   "name": "python3"
  },
  "language_info": {
   "codemirror_mode": {
    "name": "ipython",
    "version": 3
   },
   "file_extension": ".py",
   "mimetype": "text/x-python",
   "name": "python",
   "nbconvert_exporter": "python",
   "pygments_lexer": "ipython3",
   "version": "3.13.7"
  }
 },
 "nbformat": 4,
 "nbformat_minor": 5
}
