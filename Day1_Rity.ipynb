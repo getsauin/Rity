{
 "cells": [
  {
   "cell_type": "code",
   "execution_count": 1,
   "id": "f5528a37-53e0-42ad-b042-6e97d45bb490",
   "metadata": {},
   "outputs": [],
   "source": [
    "#Python \n",
    "# intrepreted language - no compilation happening \n",
    "# code is translated line by line at runtime\n",
    "# language like c++ / java is compiled before hand i.e create object code and run it \n",
    "# as python is compiled at run time - it is slow .. but translation to compiled is happenign in parallel line by line\n",
    "# no pre compilation into machine code, compilation happens at run time\n",
    "# platform independant - python virtual machine \n",
    "# java script / ruby / perl / php - these are intepreted language\n",
    "\n"
   ]
  },
  {
   "cell_type": "code",
   "execution_count": 2,
   "id": "4d1a0452-ae70-4307-ad80-01dd555b8aab",
   "metadata": {},
   "outputs": [],
   "source": [
    "# indentation is very important in python \n",
    "\n"
   ]
  },
  {
   "cell_type": "code",
   "execution_count": 3,
   "id": "a98a1836-07b9-4328-89a2-9edac419b8cc",
   "metadata": {},
   "outputs": [
    {
     "name": "stdout",
     "output_type": "stream",
     "text": [
      "hello world\n"
     ]
    }
   ],
   "source": [
    "a = 10\n",
    "a = \"hello world\"\n",
    "print(a)"
   ]
  },
  {
   "cell_type": "code",
   "execution_count": 4,
   "id": "82dc3ad5-ace6-4c2e-b899-18eb0b394db6",
   "metadata": {},
   "outputs": [],
   "source": [
    "# is used to comment "
   ]
  },
  {
   "cell_type": "code",
   "execution_count": 5,
   "id": "8d996c49-fcc3-4b3e-accd-3e92b9eeb8e2",
   "metadata": {},
   "outputs": [
    {
     "data": {
      "text/plain": [
       "11"
      ]
     },
     "execution_count": 5,
     "metadata": {},
     "output_type": "execute_result"
    }
   ],
   "source": [
    "str = 'hello world'\n",
    "len(str)"
   ]
  },
  {
   "cell_type": "code",
   "execution_count": 6,
   "id": "bad0d985-7f3c-4d06-becf-eaa7c34f1e36",
   "metadata": {},
   "outputs": [],
   "source": [
    "# operator\n",
    "# == => equal to \n",
    "# != => not equal to \n",
    "# >= gretaer than equal to \n",
    "# <= less than equal to \n",
    "\n",
    "# conditional operator\n",
    "# and \n",
    "# or \n",
    "\n",
    "# bitwise operator\n",
    "# & => 2 & 2\n",
    "# && => only in c++"
   ]
  },
  {
   "cell_type": "code",
   "execution_count": 7,
   "id": "db6c2c32-768f-44de-93a9-38337290ca19",
   "metadata": {},
   "outputs": [],
   "source": [
    "# data types\n",
    "# mutable data types & immutable data types\n",
    "\n",
    "# immutable data types - \n",
    "# int\n",
    "# string\n",
    "# boolean\n",
    "# tuple\n",
    "# frozen set\n",
    "\n",
    "# mutable data type\n",
    "# list\n",
    "# set\n",
    "# dictionary\n",
    "# array - numpy array\n"
   ]
  },
  {
   "cell_type": "code",
   "execution_count": 8,
   "id": "98f0609e-d9b1-4ed6-bd7d-815fbd328268",
   "metadata": {},
   "outputs": [],
   "source": [
    "# there basic braces in python\n",
    "# [] () {}"
   ]
  },
  {
   "cell_type": "code",
   "execution_count": 10,
   "id": "6bddb160-60e0-4aad-ac91-9722582c7228",
   "metadata": {},
   "outputs": [
    {
     "name": "stdout",
     "output_type": "stream",
     "text": [
      "True\n",
      "False\n"
     ]
    }
   ],
   "source": [
    "# boolean \n",
    "a = True\n",
    "print (a)\n",
    "\n",
    "b = False\n",
    "print(b)"
   ]
  },
  {
   "cell_type": "code",
   "execution_count": 18,
   "id": "c45c8d73-0d17-494f-8d8f-b4a1a5363b80",
   "metadata": {},
   "outputs": [
    {
     "name": "stdout",
     "output_type": "stream",
     "text": [
      "[10, 20, 30, 40]\n",
      "10\n",
      "[100, 200, [1, 2, 3]]\n",
      "[1, 2, 3]\n",
      "[10, 200, 30, 40]\n",
      "[200]\n",
      "[10, 200]\n",
      "[30, 40]\n"
     ]
    }
   ],
   "source": [
    "# list\n",
    "# sequential in nature\n",
    "# mutable data type\n",
    "\n",
    "list = [10,20,30,40]\n",
    "print(list)\n",
    "\n",
    "print(list[0])\n",
    "\n",
    "nestedList = [100, 200, [1, 2, 3]]\n",
    "print(nestedList)\n",
    "print(nestedList[2])\n",
    "\n",
    "# modify list values\n",
    "list[1] = 200\n",
    "print(list)\n",
    "\n",
    "# \n",
    "print(list[1:2])\n",
    "print(list[:2])\n",
    "print(list[2:])"
   ]
  },
  {
   "cell_type": "code",
   "execution_count": 33,
   "id": "da0f6936-d8c8-4fb1-bf7b-8abba791499c",
   "metadata": {},
   "outputs": [
    {
     "name": "stdout",
     "output_type": "stream",
     "text": [
      "(5, 2, 3, 4, 5)\n"
     ]
    }
   ],
   "source": [
    "# tuple\n",
    "# it has ()\n",
    "# immutable\n",
    "# its like list only but not mutable \n",
    "\n",
    "tup = (1, 2, 3, 4, 5)\n",
    "tup = (5, 2, 3, 4, 5)\n",
    "print(tup)\n",
    "\n",
    "#tup[0] = 44"
   ]
  },
  {
   "cell_type": "code",
   "execution_count": 38,
   "id": "3b09ed65-d6d7-4a7e-9053-01d57fa82136",
   "metadata": {},
   "outputs": [
    {
     "name": "stdout",
     "output_type": "stream",
     "text": [
      "{100, 20, 40, 10, 30}\n",
      "{100, 20, 40, 1000, 10, 30}\n",
      "{100, 20, 40, 1000, 30}\n",
      "{100, 20, 40, 1000, 30}\n"
     ]
    }
   ],
   "source": [
    "# set\n",
    "# contains only unique data \n",
    "# wont have duplicates\n",
    "# starts with {}\n",
    "\n",
    "set = {10, 20, 20, 30, 40, 100}\n",
    "print(set)\n",
    "\n",
    "#set[0] = 200\n",
    "#print(set[0])\n",
    "\n",
    "# add\n",
    "set.add(1000)\n",
    "set.add(1000)\n",
    "print(set)\n",
    "\n",
    "# remove\n",
    "set.remove(10)\n",
    "print(set)\n",
    "#set.remove(10)\n",
    "\n",
    "# discard\n",
    "set.discard(10)\n",
    "print(set)"
   ]
  },
  {
   "cell_type": "code",
   "execution_count": 40,
   "id": "51245bba-2a72-4bc9-a6c5-7601fc6328a6",
   "metadata": {},
   "outputs": [
    {
     "name": "stdout",
     "output_type": "stream",
     "text": [
      "{'india': 'delhi', 'canada': 'ottawa'}\n",
      "delhi\n"
     ]
    }
   ],
   "source": [
    "# dictionary\n",
    "# key : value\n",
    "# starts with {key:value}\n",
    "\n",
    "capital = {\"india\" : \"delhi\", \"canada\" : \"ottawa\"}\n",
    "print(capital)\n",
    "\n",
    "print(capital[\"india\"])"
   ]
  },
  {
   "cell_type": "code",
   "execution_count": 42,
   "id": "8020bb9b-735f-4260-9682-186283985d48",
   "metadata": {},
   "outputs": [
    {
     "name": "stdout",
     "output_type": "stream",
     "text": [
      "None\n"
     ]
    }
   ],
   "source": [
    "# None\n",
    "a = None\n",
    "print(a)"
   ]
  },
  {
   "cell_type": "code",
   "execution_count": 56,
   "id": "1433c41d-da18-40be-adf0-68846b36171d",
   "metadata": {},
   "outputs": [
    {
     "name": "stdout",
     "output_type": "stream",
     "text": [
      "Value of a(10), b(11) \n",
      "Value of a( 10 )\n",
      "abc\n"
     ]
    },
    {
     "ename": "TypeError",
     "evalue": "'str' object is not callable",
     "output_type": "error",
     "traceback": [
      "\u001b[31m---------------------------------------------------------------------------\u001b[39m",
      "\u001b[31mTypeError\u001b[39m                                 Traceback (most recent call last)",
      "\u001b[36mCell\u001b[39m\u001b[36m \u001b[39m\u001b[32mIn[56]\u001b[39m\u001b[32m, line 13\u001b[39m\n\u001b[32m     10\u001b[39m str2 = \u001b[32m100\u001b[39m\n\u001b[32m     11\u001b[39m \u001b[38;5;28mprint\u001b[39m(str1)\n\u001b[32m---> \u001b[39m\u001b[32m13\u001b[39m \u001b[38;5;28mprint\u001b[39m(str1 + \u001b[38;5;28;43mstr\u001b[39;49m\u001b[43m(\u001b[49m\u001b[43mstr2\u001b[49m\u001b[43m)\u001b[49m)\n",
      "\u001b[31mTypeError\u001b[39m: 'str' object is not callable"
     ]
    }
   ],
   "source": [
    "# print\n",
    "a = 10\n",
    "b = 11\n",
    "\n",
    "#print(a)\n",
    "print(\"Value of a({}), b({}) \".format(a, b))\n",
    "print(\"Value of a(\",a,\")\")\n",
    "\n",
    "str1 = 'abc'\n",
    "str2 = 100\n",
    "print(str1)\n",
    "\n",
    "print(str1 + str(str2))"
   ]
  },
  {
   "cell_type": "code",
   "execution_count": 58,
   "id": "1a5691b2-07e0-4652-9691-dd5e611f4604",
   "metadata": {},
   "outputs": [
    {
     "name": "stdout",
     "output_type": "stream",
     "text": [
      "c is greater than a/b\n"
     ]
    }
   ],
   "source": [
    "# conditional statement\n",
    "a = 10\n",
    "b = 100\n",
    "c = 500\n",
    "\n",
    "if a > b:\n",
    "    print(\"a is greater than b\")\n",
    "elif b > c:\n",
    "    print(\"b is greater than c\")\n",
    "else:\n",
    "    print(\"c is greater than a/b\")\n"
   ]
  },
  {
   "cell_type": "code",
   "execution_count": 64,
   "id": "516f9747-101a-4eae-bbe2-8ee734083cb7",
   "metadata": {},
   "outputs": [
    {
     "name": "stdout",
     "output_type": "stream",
     "text": [
      "a is largest among all\n",
      "a is largest than b\n"
     ]
    }
   ],
   "source": [
    "# and \n",
    "a = 10000\n",
    "b = 100\n",
    "c = 10\n",
    "\n",
    "if a > b and b > c:\n",
    "    print(\"a is largest among all\")    \n",
    "\n",
    "c = 40000\n",
    "if a > b or b > c:\n",
    "    print(\"a is largest than b\")"
   ]
  },
  {
   "cell_type": "code",
   "execution_count": null,
   "id": "4242b874-5446-47de-a7d1-6e5cbfbde020",
   "metadata": {},
   "outputs": [],
   "source": [
    "\n",
    "# loop - for, while\n",
    "# function \n",
    "# lambdas - map & filter \n",
    "\n",
    "# packages / virtual enviroment\n",
    "\n",
    "# class - oops "
   ]
  }
 ],
 "metadata": {
  "kernelspec": {
   "display_name": "Python 3 (ipykernel)",
   "language": "python",
   "name": "python3"
  },
  "language_info": {
   "codemirror_mode": {
    "name": "ipython",
    "version": 3
   },
   "file_extension": ".py",
   "mimetype": "text/x-python",
   "name": "python",
   "nbconvert_exporter": "python",
   "pygments_lexer": "ipython3",
   "version": "3.13.7"
  }
 },
 "nbformat": 4,
 "nbformat_minor": 5
}
